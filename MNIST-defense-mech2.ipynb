{
  "cells": [
    {
      "cell_type": "code",
      "execution_count": 1,
      "metadata": {
        "colab": {
          "base_uri": "https://localhost:8080/"
        },
        "id": "XMXGfSxql4vh",
        "outputId": "41f7e552-1274-45e5-c67e-064eb8224fb8"
      },
      "outputs": [
        {
          "name": "stdout",
          "output_type": "stream",
          "text": [
            "Requirement already satisfied: secml in c:\\users\\mbele\\anaconda3\\envs\\secml\\lib\\site-packages (0.15.6)\n",
            "Requirement already satisfied: numpy>=1.17 in c:\\users\\mbele\\anaconda3\\envs\\secml\\lib\\site-packages (from secml) (1.23.0)\n",
            "Requirement already satisfied: scipy>=1.3.2 in c:\\users\\mbele\\anaconda3\\envs\\secml\\lib\\site-packages (from secml) (1.13.1)\n",
            "Requirement already satisfied: matplotlib>=3 in c:\\users\\mbele\\anaconda3\\envs\\secml\\lib\\site-packages (from secml) (3.9.1)\n",
            "Requirement already satisfied: scikit-learn>=0.22 in c:\\users\\mbele\\anaconda3\\envs\\secml\\lib\\site-packages (from secml) (1.5.1)\n",
            "Requirement already satisfied: joblib>=0.14 in c:\\users\\mbele\\anaconda3\\envs\\secml\\lib\\site-packages (from secml) (1.4.2)\n",
            "Requirement already satisfied: Pillow>=6.2.1 in c:\\users\\mbele\\anaconda3\\envs\\secml\\lib\\site-packages (from secml) (10.4.0)\n",
            "Requirement already satisfied: requests in c:\\users\\mbele\\anaconda3\\envs\\secml\\lib\\site-packages (from secml) (2.32.3)\n",
            "Requirement already satisfied: python-dateutil in c:\\users\\mbele\\anaconda3\\envs\\secml\\lib\\site-packages (from secml) (2.9.0)\n",
            "Requirement already satisfied: contourpy>=1.0.1 in c:\\users\\mbele\\anaconda3\\envs\\secml\\lib\\site-packages (from matplotlib>=3->secml) (1.2.1)\n",
            "Requirement already satisfied: cycler>=0.10 in c:\\users\\mbele\\anaconda3\\envs\\secml\\lib\\site-packages (from matplotlib>=3->secml) (0.12.1)\n",
            "Requirement already satisfied: fonttools>=4.22.0 in c:\\users\\mbele\\anaconda3\\envs\\secml\\lib\\site-packages (from matplotlib>=3->secml) (4.53.1)\n",
            "Requirement already satisfied: kiwisolver>=1.3.1 in c:\\users\\mbele\\anaconda3\\envs\\secml\\lib\\site-packages (from matplotlib>=3->secml) (1.4.5)\n",
            "Requirement already satisfied: packaging>=20.0 in c:\\users\\mbele\\anaconda3\\envs\\secml\\lib\\site-packages (from matplotlib>=3->secml) (24.1)\n",
            "Requirement already satisfied: pyparsing>=2.3.1 in c:\\users\\mbele\\anaconda3\\envs\\secml\\lib\\site-packages (from matplotlib>=3->secml) (3.1.2)\n",
            "Requirement already satisfied: importlib-resources>=3.2.0 in c:\\users\\mbele\\anaconda3\\envs\\secml\\lib\\site-packages (from matplotlib>=3->secml) (6.4.0)\n",
            "Requirement already satisfied: six>=1.5 in c:\\users\\mbele\\anaconda3\\envs\\secml\\lib\\site-packages (from python-dateutil->secml) (1.16.0)\n",
            "Requirement already satisfied: threadpoolctl>=3.1.0 in c:\\users\\mbele\\anaconda3\\envs\\secml\\lib\\site-packages (from scikit-learn>=0.22->secml) (3.5.0)\n",
            "Requirement already satisfied: charset-normalizer<4,>=2 in c:\\users\\mbele\\anaconda3\\envs\\secml\\lib\\site-packages (from requests->secml) (3.3.2)\n",
            "Requirement already satisfied: idna<4,>=2.5 in c:\\users\\mbele\\anaconda3\\envs\\secml\\lib\\site-packages (from requests->secml) (3.7)\n",
            "Requirement already satisfied: urllib3<3,>=1.21.1 in c:\\users\\mbele\\anaconda3\\envs\\secml\\lib\\site-packages (from requests->secml) (2.2.2)\n",
            "Requirement already satisfied: certifi>=2017.4.17 in c:\\users\\mbele\\anaconda3\\envs\\secml\\lib\\site-packages (from requests->secml) (2024.7.4)\n",
            "Requirement already satisfied: zipp>=3.1.0 in c:\\users\\mbele\\anaconda3\\envs\\secml\\lib\\site-packages (from importlib-resources>=3.2.0->matplotlib>=3->secml) (3.19.2)\n"
          ]
        },
        {
          "name": "stderr",
          "output_type": "stream",
          "text": [
            "\n",
            "[notice] A new release of pip is available: 24.1.2 -> 24.2\n",
            "[notice] To update, run: python.exe -m pip install --upgrade pip\n"
          ]
        },
        {
          "name": "stdout",
          "output_type": "stream",
          "text": [
            "Requirement already satisfied: foolbox in c:\\users\\mbele\\anaconda3\\envs\\secml\\lib\\site-packages (3.3.4)\n",
            "Requirement already satisfied: numpy in c:\\users\\mbele\\anaconda3\\envs\\secml\\lib\\site-packages (from foolbox) (1.23.0)\n",
            "Requirement already satisfied: scipy in c:\\users\\mbele\\anaconda3\\envs\\secml\\lib\\site-packages (from foolbox) (1.13.1)\n",
            "Requirement already satisfied: setuptools in c:\\users\\mbele\\anaconda3\\envs\\secml\\lib\\site-packages (from foolbox) (69.5.1)\n",
            "Requirement already satisfied: eagerpy>=0.30.0 in c:\\users\\mbele\\anaconda3\\envs\\secml\\lib\\site-packages (from foolbox) (0.30.0)\n",
            "Requirement already satisfied: GitPython>=3.0.7 in c:\\users\\mbele\\anaconda3\\envs\\secml\\lib\\site-packages (from foolbox) (3.1.43)\n",
            "Requirement already satisfied: typing-extensions>=3.7.4.1 in c:\\users\\mbele\\anaconda3\\envs\\secml\\lib\\site-packages (from foolbox) (4.12.2)\n",
            "Requirement already satisfied: requests>=2.24.0 in c:\\users\\mbele\\anaconda3\\envs\\secml\\lib\\site-packages (from foolbox) (2.32.3)\n",
            "Requirement already satisfied: gitdb<5,>=4.0.1 in c:\\users\\mbele\\anaconda3\\envs\\secml\\lib\\site-packages (from GitPython>=3.0.7->foolbox) (4.0.11)\n",
            "Requirement already satisfied: charset-normalizer<4,>=2 in c:\\users\\mbele\\anaconda3\\envs\\secml\\lib\\site-packages (from requests>=2.24.0->foolbox) (3.3.2)\n",
            "Requirement already satisfied: idna<4,>=2.5 in c:\\users\\mbele\\anaconda3\\envs\\secml\\lib\\site-packages (from requests>=2.24.0->foolbox) (3.7)\n",
            "Requirement already satisfied: urllib3<3,>=1.21.1 in c:\\users\\mbele\\anaconda3\\envs\\secml\\lib\\site-packages (from requests>=2.24.0->foolbox) (2.2.2)\n",
            "Requirement already satisfied: certifi>=2017.4.17 in c:\\users\\mbele\\anaconda3\\envs\\secml\\lib\\site-packages (from requests>=2.24.0->foolbox) (2024.7.4)\n",
            "Requirement already satisfied: smmap<6,>=3.0.1 in c:\\users\\mbele\\anaconda3\\envs\\secml\\lib\\site-packages (from gitdb<5,>=4.0.1->GitPython>=3.0.7->foolbox) (5.0.1)\n"
          ]
        },
        {
          "name": "stderr",
          "output_type": "stream",
          "text": [
            "\n",
            "[notice] A new release of pip is available: 24.1.2 -> 24.2\n",
            "[notice] To update, run: python.exe -m pip install --upgrade pip\n"
          ]
        }
      ],
      "source": [
        "!pip install secml\n",
        "!pip install foolbox\n"
      ]
    },
    {
      "cell_type": "code",
      "execution_count": 2,
      "metadata": {
        "id": "HCQI6XLIlyWa"
      },
      "outputs": [],
      "source": [
        "import secml\n",
        "import torch\n",
        "import foolbox\n",
        "from secml.array import CArray\n",
        "from secml.adv.seceval import CSecEval\n"
      ]
    },
    {
      "cell_type": "markdown",
      "metadata": {
        "id": "Q8LG2EKOlyWb"
      },
      "source": [
        "# Phase 1: Dataset Selection and Preprocessing\n",
        "\n",
        "### Selected <text style=\"color:yellow\">MNIST dataset</text>\n",
        "\n",
        "### Importing and preprocessing dataset\n"
      ]
    },
    {
      "cell_type": "code",
      "execution_count": 3,
      "metadata": {
        "id": "nsNfy7yilyWc"
      },
      "outputs": [],
      "source": [
        "from secml.data.loader import CDataLoaderMNIST\n",
        "\n",
        "random_state = 42\n",
        "\n",
        "n_tr = 3000  # no. of training set\n",
        "n_val = 100  # no. of testing set\n",
        "n_ts = 200\n",
        "\n",
        "from secml.data.splitter import CTrainTestSplit\n",
        "\n",
        "loader = CDataLoaderMNIST()\n",
        "tr_data = loader.load(\"training\", num_samples=n_tr + n_val)\n",
        "\n",
        "\n",
        "splitter = CTrainTestSplit(train_size=n_tr, test_size=n_val, random_state=random_state)\n",
        "\n",
        "tr, val = splitter.split(tr_data)\n",
        "ts = loader.load(\"testing\", num_samples=n_ts)\n"
      ]
    },
    {
      "cell_type": "markdown",
      "metadata": {
        "id": "x_faq-mBlyWc"
      },
      "source": [
        "### Normalizing\n"
      ]
    },
    {
      "cell_type": "code",
      "execution_count": 4,
      "metadata": {
        "id": "RihibDkulyWc"
      },
      "outputs": [],
      "source": [
        "tr.X = tr.X / 255\n",
        "ts.X = ts.X / 255\n",
        "val.X = val.X / 255\n"
      ]
    },
    {
      "cell_type": "code",
      "execution_count": 5,
      "metadata": {
        "colab": {
          "base_uri": "https://localhost:8080/",
          "height": 826
        },
        "id": "HVhJleIelyWc",
        "outputId": "1e72cf15-7ba2-4f55-9746-39cf27434562"
      },
      "outputs": [
        {
          "data": {
            "image/png": "[encoded data removed]",
            "text/plain": [
              "<Figure size 1000x1000 with 25 Axes>"
            ]
          },
          "metadata": {},
          "output_type": "display_data"
        }
      ],
      "source": [
        "import matplotlib.pyplot as plt\n",
        "\n",
        "# converting to numpy array for plotting\n",
        "tr_X_array = tr.X.tondarray()\n",
        "tr_Y_array = tr.Y.tondarray()\n",
        "\n",
        "\n",
        "class_names = tr.Y.unique().tondarray()  # Store the class names in a list\n",
        "\n",
        "\n",
        "plt.figure(figsize=(10, 10))\n",
        "for i in range(25):\n",
        "    plt.subplot(5, 5, i + 1)\n",
        "    plt.xticks([])\n",
        "    plt.yticks([])\n",
        "    plt.grid(False)\n",
        "    plt.imshow(tr_X_array[i].reshape(28, -1))\n",
        "    # plt.imshow(tr_X_array[i].reshape(28, -1), cmap=plt.cm.binary)\n",
        "    plt.xlabel(class_names[tr_Y_array[i]])\n",
        "plt.show()\n",
        "# tr_array.reshape(28, -1).shape\n",
        "# tr_array[1].shape\n"
      ]
    },
    {
      "cell_type": "markdown",
      "metadata": {
        "id": "JIAWImkblyWc"
      },
      "source": [
        "# Phase 2: Building a Machine learning model\n"
      ]
    },
    {
      "cell_type": "code",
      "execution_count": 6,
      "metadata": {
        "id": "NXrvHYz5lyWd"
      },
      "outputs": [],
      "source": [
        "import torch\n",
        "import torch.nn as nn\n",
        "import torch.nn.functional as F\n",
        "\n",
        "\n",
        "class Net(nn.Module):\n",
        "\n",
        "    # def __init__(self):\n",
        "    #     super(Net, self).__init__()\n",
        "    #     self.conv1 = nn.Conv2d(1, 10, kernel_size=5)\n",
        "    #     self.conv2 = nn.Conv2d(10, 20, kernel_size=5)\n",
        "    #     self.conv2_drop = nn.Dropout2d()\n",
        "    #     self.fc1 = nn.Linear(320, 50)\n",
        "    #     self.fc2 = nn.Linear(50, 10)\n",
        "\n",
        "    # def forward(self, x):\n",
        "    #     x = torch.relu(torch.max_pool2d(self.conv1(x), 2))\n",
        "    #     x = torch.relu(torch.max_pool2d(self.conv2_drop(self.conv2(x)), 2))\n",
        "    #     x = x.view(-1, 320)\n",
        "    #     x = torch.relu(self.fc1(x))\n",
        "    #     return self.fc2(x)\n",
        "\n",
        "    def __init__(self):\n",
        "        super(Net, self).__init__()\n",
        "\n",
        "        # Convolutional layers\n",
        "        self.conv1 = nn.Conv2d(1, 32, kernel_size=3, padding=1)\n",
        "        self.bn1 = nn.BatchNorm2d(32)\n",
        "        self.conv2 = nn.Conv2d(32, 64, kernel_size=3, padding=1)\n",
        "        self.bn2 = nn.BatchNorm2d(64)\n",
        "        self.conv3 = nn.Conv2d(64, 128, kernel_size=3, padding=1)\n",
        "        self.bn3 = nn.BatchNorm2d(128)\n",
        "\n",
        "        # Dropout for regularization\n",
        "        self.dropout = nn.Dropout2d(p=0.25)\n",
        "\n",
        "        # Fully connected layers\n",
        "        self.fc1 = nn.Linear(128 * 7 * 7, 512)\n",
        "        self.fc_bn1 = nn.BatchNorm1d(512)\n",
        "        self.fc2 = nn.Linear(512, 256)\n",
        "        self.fc_bn2 = nn.BatchNorm1d(256)\n",
        "        self.fc3 = nn.Linear(256, 10)\n",
        "\n",
        "    def forward(self, x):\n",
        "        # Convolutional layers with batch normalization and ReLU\n",
        "        x = self.bn1(F.relu(self.conv1(x)))\n",
        "        x = self.bn2(F.relu(self.conv2(x)))\n",
        "        x = F.max_pool2d(self.dropout(x), 2)\n",
        "        x = self.bn3(F.relu(self.conv3(x)))\n",
        "        x = F.max_pool2d(self.dropout(x), 2)\n",
        "\n",
        "        # Flatten before fully connected layers\n",
        "        x = x.view(-1, 128 * 7 * 7)\n",
        "\n",
        "        # Fully connected layers with batch normalization and ReLU\n",
        "        x = self.fc_bn1(F.relu(self.fc1(x)))\n",
        "        x = self.fc_bn2(F.relu(self.fc2(x)))\n",
        "\n",
        "        # Output layer (no activation applied here)\n",
        "        x = self.fc3(x)\n",
        "\n",
        "        return x\n"
      ]
    },
    {
      "cell_type": "code",
      "execution_count": 7,
      "metadata": {
        "id": "jtYNluQ3lyWd"
      },
      "outputs": [],
      "source": [
        "import torch.optim as optim\n",
        "\n",
        "net = Net()\n",
        "optimizer = torch.optim.SGD(net.parameters(), lr=0.001, momentum=0.9)\n",
        "loss_function = nn.CrossEntropyLoss()\n"
      ]
    },
    {
      "cell_type": "markdown",
      "metadata": {
        "id": "h6YrSFJ2lyWd"
      },
      "source": [
        "# Wrapping the model in <text style=\"color:yellow\">SecML </text>\n"
      ]
    },
    {
      "cell_type": "code",
      "execution_count": 8,
      "metadata": {
        "id": "T2qe6Pf7lyWd"
      },
      "outputs": [],
      "source": [
        "from secml.ml.classifiers import CClassifierPyTorch\n",
        "\n",
        "num_epochs = 30\n",
        "clf = CClassifierPyTorch(\n",
        "    model=net,\n",
        "    loss=loss_function,\n",
        "    optimizer=optimizer,\n",
        "    epochs=num_epochs,\n",
        "    batch_size=64,\n",
        "    input_shape=(1, 28, 28),\n",
        "    random_state=0,\n",
        ")\n",
        "\n",
        "import pickle\n",
        "\n",
        "## saving the untrained model\n",
        "filename = \"model1.1.pkl\"  # file name\n",
        "\n",
        "with open(filename, \"wb\") as file:\n",
        "    pickle.dump(clf, file)\n"
      ]
    },
    {
      "cell_type": "markdown",
      "metadata": {
        "id": "cI2iwA9nlyWd"
      },
      "source": [
        "### Loading model and training on <text style=\"color:yellow\">clean training data</text>\n"
      ]
    },
    {
      "cell_type": "code",
      "execution_count": 9,
      "metadata": {
        "colab": {
          "base_uri": "https://localhost:8080/"
        },
        "id": "-RdH38m1lyWd",
        "outputId": "e6d4c1c6-8e73-499e-f85f-192af1ead77b"
      },
      "outputs": [
        {
          "data": {
            "text/plain": [
              "Net(\n",
              "  (conv1): Conv2d(1, 32, kernel_size=(3, 3), stride=(1, 1), padding=(1, 1))\n",
              "  (bn1): BatchNorm2d(32, eps=1e-05, momentum=0.1, affine=True, track_running_stats=True)\n",
              "  (conv2): Conv2d(32, 64, kernel_size=(3, 3), stride=(1, 1), padding=(1, 1))\n",
              "  (bn2): BatchNorm2d(64, eps=1e-05, momentum=0.1, affine=True, track_running_stats=True)\n",
              "  (conv3): Conv2d(64, 128, kernel_size=(3, 3), stride=(1, 1), padding=(1, 1))\n",
              "  (bn3): BatchNorm2d(128, eps=1e-05, momentum=0.1, affine=True, track_running_stats=True)\n",
              "  (dropout): Dropout2d(p=0.25, inplace=False)\n",
              "  (fc1): Linear(in_features=6272, out_features=512, bias=True)\n",
              "  (fc_bn1): BatchNorm1d(512, eps=1e-05, momentum=0.1, affine=True, track_running_stats=True)\n",
              "  (fc2): Linear(in_features=512, out_features=256, bias=True)\n",
              "  (fc_bn2): BatchNorm1d(256, eps=1e-05, momentum=0.1, affine=True, track_running_stats=True)\n",
              "  (fc3): Linear(in_features=256, out_features=10, bias=True)\n",
              ")"
            ]
          },
          "execution_count": 9,
          "metadata": {},
          "output_type": "execute_result"
        }
      ],
      "source": [
        "filename = \"model1.1.pkl\"\n",
        "\n",
        "# Open the file for reading binary data\n",
        "with open(filename, \"rb\") as file:\n",
        "    # loading the classifier\n",
        "    not_robust = pickle.load(file)\n",
        "\n",
        "not_robust.fit(tr.X, tr.Y)\n"
      ]
    },
    {
      "cell_type": "markdown",
      "metadata": {
        "id": "C4uHToHklyWd"
      },
      "source": [
        "# Testing the model on <text style=\"color:yellow\">clean test data</text>\n"
      ]
    },
    {
      "cell_type": "code",
      "execution_count": 10,
      "metadata": {
        "colab": {
          "base_uri": "https://localhost:8080/"
        },
        "id": "JSAB66V7lyWd",
        "outputId": "39c95eea-08dc-424c-e814-d1951845ee29"
      },
      "outputs": [
        {
          "name": "stdout",
          "output_type": "stream",
          "text": [
            "Model accuracy on clean set: 99.00%\n"
          ]
        }
      ],
      "source": [
        "from secml.ml.peval.metrics import CMetricAccuracy\n",
        "from secml.array import CArray\n",
        "\n",
        "y_pred = not_robust.predict(ts.X)\n",
        "peval = CMetricAccuracy()\n",
        "print(\n",
        "    \"Model accuracy on clean set: {:.2%}\".format(peval.performance_score(ts.Y, y_pred))\n",
        ")\n"
      ]
    },
    {
      "cell_type": "markdown",
      "metadata": {
        "id": "-IeBKgoRlyWd"
      },
      "source": [
        "## Phase 3 - Data Poisoning attack\n",
        "\n",
        "## creating adversarial examples\n"
      ]
    },
    {
      "cell_type": "code",
      "execution_count": 11,
      "metadata": {
        "id": "_UTX5so1lyWd"
      },
      "outputs": [],
      "source": [
        "# from secml.adv.attacks.evasion import CFoolboxPGDLinf\n",
        "\n",
        "X0, Y0 = ts.X[:100, :], ts.Y[:100]\n",
        "\n",
        "noise_type = \"l2\"  # Type of perturbation 'l1' or 'l2'\n",
        "dmax = 0.4  # Maximum perturbation\n",
        "lb, ub = 0.0, 1.0  # Bounds of the attack space. Can be set to `None` for unbounded\n",
        "y_target = None  # `error-specific` attack. None for `error-generic`\n",
        "\n",
        "# Should be chosen depending on the optimization problem\n",
        "solve_params = {\n",
        "    \"eta\": 1e-1,  # is equivalent to 0.1\n",
        "    \"eta_min\": 0.1,\n",
        "    \"eta_max\": None,\n",
        "    \"max_iter\": 100,\n",
        "    \"eps\": 1e-4,  # is equivalent to 0.00001\n",
        "}\n",
        "\n",
        "from secml.adv.attacks.evasion import CAttackEvasionPGDLS\n",
        "\n",
        "pgd_ls_attack = CAttackEvasionPGDLS(\n",
        "    classifier=not_robust,\n",
        "    double_init_ds=tr,\n",
        "    double_init=False,\n",
        "    distance=noise_type,\n",
        "    dmax=dmax,\n",
        "    lb=lb,\n",
        "    ub=ub,\n",
        "    solver_params=solve_params,\n",
        "    y_target=y_target,\n",
        ")\n",
        "pgd_pred, _, pgd_ds, _ = pgd_ls_attack.run(X0, Y0)\n"
      ]
    },
    {
      "cell_type": "markdown",
      "metadata": {
        "id": "bHtjYIR9lyWd"
      },
      "source": [
        "## Visualizing the <text style=\"color:yellow\">adversarial examples</text> with the <text style=\"color:green\">true labels</text> and <text style=\"color:red\">adversarial predicted attack labels</text> in bracket\n"
      ]
    },
    {
      "cell_type": "code",
      "execution_count": 12,
      "metadata": {
        "colab": {
          "base_uri": "https://localhost:8080/",
          "height": 348
        },
        "id": "9IKP2DdGlyWd",
        "outputId": "3e8d4889-94fd-4fa6-d9c9-1d70027309dc"
      },
      "outputs": [
        {
          "data": {
            "image/png": "[encoded data removed]",
            "text/plain": [
              "<Figure size 1000x1000 with 8 Axes>"
            ]
          },
          "metadata": {},
          "output_type": "display_data"
        }
      ],
      "source": [
        "import matplotlib.pyplot as plt\n",
        "import random\n",
        "\n",
        "ts_X_array = X0.tondarray()\n",
        "ts_Y_array = Y0.tondarray()\n",
        "y_pred_array = pgd_pred.tondarray()\n",
        "count = 0\n",
        "\n",
        "plt.figure(figsize=(10, 10))\n",
        "for i in range(X0.shape[0]):\n",
        "    if Y0[i].item() != y_pred_array[i].item() and count < 10:\n",
        "        count += 1\n",
        "        rand_index = random.randint(0, X0.shape[0] - 1)  # pick a random number as index\n",
        "        plt.subplot(5, 5, count)\n",
        "        plt.xticks([])\n",
        "        plt.yticks([])\n",
        "        plt.grid(False)\n",
        "        plt.imshow(ts_X_array[i].reshape(28, -1))\n",
        "        # plt.imshow(tr_X_array[i].reshape(28, -1), cmap=plt.cm.binary)\n",
        "        plt.xlabel(\n",
        "            \"{} ({})\".format(Y0[i].item(), y_pred_array[i].item()),\n",
        "            color=(\"green\" if Y0[i].item() == y_pred_array[i].item() else \"red\"),\n",
        "        )\n",
        "\n",
        "plt.show()\n"
      ]
    },
    {
      "cell_type": "markdown",
      "metadata": {
        "id": "Izuuc9W5lyWe"
      },
      "source": [
        "## Adding adversarial examples to the training set\n"
      ]
    },
    {
      "cell_type": "code",
      "execution_count": 13,
      "metadata": {
        "colab": {
          "base_uri": "https://localhost:8080/"
        },
        "id": "5M8ISEOVlyWe",
        "outputId": "3d0c049f-8617-4c8b-f820-8d3bcb8d85c2"
      },
      "outputs": [
        {
          "data": {
            "text/plain": [
              "(3100, 784)"
            ]
          },
          "execution_count": 13,
          "metadata": {},
          "output_type": "execute_result"
        }
      ],
      "source": [
        "tr_poisoned = tr.append(pgd_ds)\n",
        "tr_poisoned.X.shape\n"
      ]
    },
    {
      "cell_type": "markdown",
      "metadata": {
        "id": "KcSS7lN9lyWe"
      },
      "source": [
        "# comparing normal model and attacked model on clean and poisoned test set\n"
      ]
    },
    {
      "cell_type": "code",
      "execution_count": 14,
      "metadata": {
        "id": "bh_zuQGdlyWe"
      },
      "outputs": [],
      "source": [
        "n_poisoning_points = 50\n",
        "pgd_ls_attack.n_points = n_poisoning_points\n"
      ]
    },
    {
      "cell_type": "code",
      "execution_count": 15,
      "metadata": {
        "colab": {
          "base_uri": "https://localhost:8080/"
        },
        "id": "Jsw9EZhAlyWe",
        "outputId": "7eb7006e-2e41-4e50-df36-e2833840e2cd"
      },
      "outputs": [
        {
          "name": "stdout",
          "output_type": "stream",
          "text": [
            "Attack started...\n",
            "Attack complete!\n",
            "Original accuracy on test set: 99.00%\n",
            "Accuracy after attack on test set: 90.50%\n"
          ]
        }
      ],
      "source": [
        "from secml.ml.peval.metrics import CMetricAccuracy\n",
        "\n",
        "metric = CMetricAccuracy()\n",
        "\n",
        "print(\"Attack started...\")\n",
        "pois_y_pred, pois_scores, pois_ds, f_opt = pgd_ls_attack.run(ts.X, ts.Y)\n",
        "print(\"Attack complete!\")\n",
        "\n",
        "acc = metric.performance_score(y_true=ts.Y, y_pred=y_pred)\n",
        "# Evaluate the accuracy after the poisoning attack\n",
        "pois_acc = metric.performance_score(y_true=ts.Y, y_pred=pois_y_pred)\n",
        "\n",
        "print(\"Original accuracy on test set: {:.2%}\".format(acc))\n",
        "print(\"Accuracy after attack on test set: {:.2%}\".format(pois_acc))\n"
      ]
    },
    {
      "cell_type": "markdown",
      "metadata": {
        "id": "fnoH5rcQlyWe"
      },
      "source": [
        "# Phase 4 - Retrain the model on the poisoned dataset.\n"
      ]
    },
    {
      "cell_type": "markdown",
      "metadata": {
        "id": "dhQEb35dlyWe"
      },
      "source": [
        "#### training model on poisoned dataset\n"
      ]
    },
    {
      "cell_type": "code",
      "execution_count": 16,
      "metadata": {
        "colab": {
          "base_uri": "https://localhost:8080/"
        },
        "id": "VDf-HSPWlyWe",
        "outputId": "dc915251-d7e5-48f8-9208-c34eae84eb55"
      },
      "outputs": [
        {
          "data": {
            "text/plain": [
              "Net(\n",
              "  (conv1): Conv2d(1, 32, kernel_size=(3, 3), stride=(1, 1), padding=(1, 1))\n",
              "  (bn1): BatchNorm2d(32, eps=1e-05, momentum=0.1, affine=True, track_running_stats=True)\n",
              "  (conv2): Conv2d(32, 64, kernel_size=(3, 3), stride=(1, 1), padding=(1, 1))\n",
              "  (bn2): BatchNorm2d(64, eps=1e-05, momentum=0.1, affine=True, track_running_stats=True)\n",
              "  (conv3): Conv2d(64, 128, kernel_size=(3, 3), stride=(1, 1), padding=(1, 1))\n",
              "  (bn3): BatchNorm2d(128, eps=1e-05, momentum=0.1, affine=True, track_running_stats=True)\n",
              "  (dropout): Dropout2d(p=0.25, inplace=False)\n",
              "  (fc1): Linear(in_features=6272, out_features=512, bias=True)\n",
              "  (fc_bn1): BatchNorm1d(512, eps=1e-05, momentum=0.1, affine=True, track_running_stats=True)\n",
              "  (fc2): Linear(in_features=512, out_features=256, bias=True)\n",
              "  (fc_bn2): BatchNorm1d(256, eps=1e-05, momentum=0.1, affine=True, track_running_stats=True)\n",
              "  (fc3): Linear(in_features=256, out_features=10, bias=True)\n",
              ")"
            ]
          },
          "execution_count": 16,
          "metadata": {},
          "output_type": "execute_result"
        }
      ],
      "source": [
        "# with open(filename, \"rb\") as file:\n",
        "#     # Use pickle to load the classifier\n",
        "#     robust_model = pickle.load(file)\n",
        "\n",
        "\n",
        "robust_model = not_robust.deepcopy()\n",
        "robust_model.fit(tr_poisoned.X, tr_poisoned.Y)\n"
      ]
    },
    {
      "cell_type": "markdown",
      "metadata": {
        "id": "Ihc4GlDelyWe"
      },
      "source": [
        "## prediction of robust model on <text style=\"color:green\"> clean dataset</text>\n"
      ]
    },
    {
      "cell_type": "code",
      "execution_count": 17,
      "metadata": {
        "id": "c6GpXZ7PlyWe"
      },
      "outputs": [],
      "source": [
        "y_pred_robust = robust_model.predict(ts.X)\n"
      ]
    },
    {
      "cell_type": "markdown",
      "metadata": {
        "id": "9LjqPVTxlyWe"
      },
      "source": [
        "#### Robust model attack\n"
      ]
    },
    {
      "cell_type": "code",
      "execution_count": 18,
      "metadata": {
        "id": "-pwievy6lyWe"
      },
      "outputs": [],
      "source": [
        "robust_attack = CAttackEvasionPGDLS(\n",
        "    classifier=robust_model,\n",
        "    double_init_ds=tr,\n",
        "    double_init=False,\n",
        "    distance=noise_type,\n",
        "    dmax=dmax,\n",
        "    lb=lb,\n",
        "    ub=ub,\n",
        "    solver_params=solve_params,\n",
        "    y_target=y_target,\n",
        ")\n"
      ]
    },
    {
      "cell_type": "markdown",
      "metadata": {
        "id": "yji-734SlyWe"
      },
      "source": [
        "## prediction of robust model on <text style=\"color:red\">poisoned dataset</text>\n"
      ]
    },
    {
      "cell_type": "code",
      "execution_count": 19,
      "metadata": {
        "colab": {
          "base_uri": "https://localhost:8080/"
        },
        "id": "QXsIjR35lyWf",
        "outputId": "e2510771-7ce8-48a5-daf3-96b7d923f770"
      },
      "outputs": [
        {
          "name": "stdout",
          "output_type": "stream",
          "text": [
            "Attack started....\n",
            "Attack ended....\n",
            "Accuracy of robust model on clean test set before attack: 99.00%\n",
            "Accuracy of robust model on poisoned test set after attack: 96.00%\n"
          ]
        }
      ],
      "source": [
        "print(\"Attack started....\")\n",
        "robust_pred, _, pgd_ds_robust, _ = robust_attack.run(ts.X, ts.Y)\n",
        "print(\"Attack ended....\")\n",
        "\n",
        "# Comparing accuracies\n",
        "robust_acc = metric.performance_score(y_true=ts.Y, y_pred=y_pred_robust)\n",
        "robust_pois_acc = metric.performance_score(y_true=ts.Y, y_pred=robust_pred)\n",
        "print(\n",
        "    \"Accuracy of robust model on clean test set before attack: {:.2%}\".format(\n",
        "        robust_acc\n",
        "    )\n",
        ")\n",
        "print(\n",
        "    \"Accuracy of robust model on poisoned test set after attack: {:.2%}\".format(\n",
        "        robust_pois_acc\n",
        "    )\n",
        ")\n"
      ]
    },
    {
      "cell_type": "markdown",
      "metadata": {
        "id": "4dxUpX0JlyWf"
      },
      "source": [
        "## Phase 5 - evaluation\n"
      ]
    },
    {
      "cell_type": "markdown",
      "metadata": {
        "id": "FsiWMZaVlyWf"
      },
      "source": [
        "#### Crafting advasarial with the same attack in phase 3\n"
      ]
    },
    {
      "cell_type": "code",
      "execution_count": 20,
      "metadata": {
        "id": "dPFo8_ePlyWf"
      },
      "outputs": [],
      "source": [
        "# this time i will create examples from the last 50 items in the dataset\n",
        "\n",
        "X0, Y0 = X0, Y0 = ts.X[150:, :], ts.Y[150:]\n",
        "\n",
        "\n",
        "noise_type = \"l2\"  # Type of perturbation 'l2'\n",
        "dmax = 0.6  # Maximum perturbation\n",
        "lb, ub = 0.0, 1.0  # Bounds of the attack space.\n",
        "y_target = None\n",
        "\n",
        "\n",
        "pgd_ls_not_rubust = CAttackEvasionPGDLS(\n",
        "    classifier=not_robust,\n",
        "    double_init_ds=tr,\n",
        "    double_init=False,\n",
        "    distance=noise_type,\n",
        "    dmax=dmax,\n",
        "    lb=lb,\n",
        "    ub=ub,\n",
        "    solver_params=solve_params,\n",
        "    y_target=y_target,\n",
        ")\n",
        "\n",
        "pgd_ls_rubust = CAttackEvasionPGDLS(\n",
        "    classifier=robust_model,\n",
        "    double_init_ds=tr,\n",
        "    double_init=False,\n",
        "    distance=noise_type,\n",
        "    dmax=dmax,\n",
        "    lb=lb,\n",
        "    ub=ub,\n",
        "    solver_params=solve_params,\n",
        "    y_target=y_target,\n",
        ")\n",
        "# pgd_pred, _, pgd_ds, _ = pgd_ls_attack.run(X0, Y0)\n"
      ]
    },
    {
      "cell_type": "markdown",
      "metadata": {
        "id": "4o3MSX_9lyWf"
      },
      "source": [
        "## Testing Model robustness\n"
      ]
    },
    {
      "cell_type": "code",
      "execution_count": 21,
      "metadata": {
        "id": "c2h-6xcZlyWi"
      },
      "outputs": [],
      "source": [
        "dmax_vals = CArray.linspace(0, stop=0.4, num=10)\n",
        "\n",
        "sec_eval_not_robust = CSecEval(\n",
        "    attack=pgd_ls_not_rubust, param_name=\"dmax\", param_values=dmax_vals\n",
        ")\n",
        "\n",
        "sec_eval_robust = CSecEval(\n",
        "    attack=pgd_ls_rubust, param_name=\"dmax\", param_values=dmax_vals\n",
        ")\n",
        "sec_eval_not_robust.run_sec_eval(ts)\n",
        "sec_eval_robust.run_sec_eval(ts)\n"
      ]
    },
    {
      "cell_type": "markdown",
      "metadata": {
        "id": "zDlhaI9DlyWi"
      },
      "source": [
        "## Accuracy begins to dip for unrobust model before the Robust model\n"
      ]
    },
    {
      "cell_type": "code",
      "execution_count": 22,
      "metadata": {
        "id": "kLjS6K4tlyWi"
      },
      "outputs": [
        {
          "data": {
            "image/png": "[encoded data removed]",
            "text/plain": [
              "<Figure size 1000x500 with 1 Axes>"
            ]
          },
          "metadata": {},
          "output_type": "display_data"
        }
      ],
      "source": [
        "%matplotlib inline\n",
        "\n",
        "from secml.figure import CFigure\n",
        "\n",
        "fig = CFigure(height=5, width=10)\n",
        "\n",
        "fig.sp.plot_sec_eval(sec_eval_not_robust.sec_eval_data, marker='o',\n",
        "                     label=\"Mnist regular\", show_average=True)\n",
        "\n",
        "fig.sp.plot_sec_eval(sec_eval_robust.sec_eval_data, marker='*',\n",
        "                     label=\"Mnist robust\", show_average=True)\n"
      ]
    },
    {
      "cell_type": "code",
      "execution_count": 23,
      "metadata": {
        "id": "8frRnZy0lyWi"
      },
      "outputs": [],
      "source": [
        "## performing predictions\n",
        "y_pred_not_robust, _, adv_ds_not_robust, _ = pgd_ls_not_rubust.run(X0, Y0)\n",
        "y_pred_robust, _, adv_ds_robust, _ = pgd_ls_rubust.run(X0, Y0)\n"
      ]
    },
    {
      "cell_type": "code",
      "execution_count": 24,
      "metadata": {
        "id": "kPPiVwm7lyWi"
      },
      "outputs": [],
      "source": [
        "# let's define a convenience function to easily plot the MNIST dataset\n",
        "def show_digits(samples, preds, labels, n_display=8, title=None):\n",
        "    digits = list(range(10))\n",
        "    samples = samples.atleast_2d()\n",
        "    n_display = min(n_display, samples.shape[0])\n",
        "    fig = CFigure(width=n_display * 2, height=4)\n",
        "    for idx in range(n_display):\n",
        "        fig.subplot(2, n_display, idx + 1)\n",
        "        fig.sp.xticks([])\n",
        "        fig.sp.yticks([])\n",
        "        fig.sp.imshow(samples[idx, :].reshape((28, 28)), cmap=\"gray\")\n",
        "        fig.sp.title(\n",
        "            \"{} ({})\".format(digits[labels[idx].item()], digits[preds[idx].item()]),\n",
        "            color=(\"green\" if labels[idx].item() == preds[idx].item() else \"red\"),\n",
        "        )\n",
        "    if title is not None:\n",
        "        fig.title(title)\n",
        "    fig.show()\n"
      ]
    },
    {
      "cell_type": "code",
      "execution_count": 25,
      "metadata": {
        "id": "KwwBrrzLlyWi"
      },
      "outputs": [
        {
          "name": "stdout",
          "output_type": "stream",
          "text": [
            "Accuracy of regular model after attack: 90.00%\n",
            "Accuracy of robust model after attack: 92.00%\n"
          ]
        }
      ],
      "source": [
        "not_robust_acc = metric.performance_score(y_true=Y0, y_pred=y_pred_not_robust)\n",
        "robust_acc = metric.performance_score(y_true=Y0, y_pred=y_pred_robust)\n",
        "\n",
        "print(\"Accuracy of regular model after attack: {:.2%}\".format(not_robust_acc))\n",
        "print(\"Accuracy of robust model after attack: {:.2%}\".format(robust_acc))\n"
      ]
    },
    {
      "cell_type": "markdown",
      "metadata": {
        "id": "FFA4VKRvlyWi"
      },
      "source": [
        "## Crafting new attack (CFoolPGDLinf)\n"
      ]
    },
    {
      "cell_type": "code",
      "execution_count": 26,
      "metadata": {
        "id": "0NVolQI0lyWi"
      },
      "outputs": [],
      "source": [
        "from secml.adv.attacks.evasion import CFoolboxPGDLinf\n",
        "\n",
        "X0, Y0 = ts.X[:100, :], ts.Y[100:]\n",
        "y_target = None\n",
        "lb, ub = 0.0, 1.0\n",
        "eps = 0.3  # this will be changed by the security evaluation class\n",
        "alpha = 0.05\n",
        "steps = 100\n",
        "\n",
        "pgd_linf_attack = CFoolboxPGDLinf(\n",
        "    not_robust,\n",
        "    y_target,\n",
        "    lb=lb,\n",
        "    ub=ub,\n",
        "    epsilons=eps,\n",
        "    abs_stepsize=alpha,\n",
        "    steps=steps,\n",
        "    random_start=False,\n",
        ")\n"
      ]
    },
    {
      "cell_type": "code",
      "execution_count": 27,
      "metadata": {
        "id": "CAKyvKemlyWi"
      },
      "outputs": [
        {
          "name": "stdout",
          "output_type": "stream",
          "text": [
            "Attack started...\n",
            "Attack complete!\n"
          ]
        }
      ],
      "source": [
        "print(\"Attack started...\")\n",
        "y_linf_pred, scores, adv_linf_ds, f_obj = pgd_linf_attack.run(ts.X, ts.Y)\n",
        "print(\"Attack complete!\")\n"
      ]
    },
    {
      "cell_type": "markdown",
      "metadata": {
        "id": "6F4y6bkNlyWi"
      },
      "source": [
        "# robust model accuracy on different attack\n"
      ]
    },
    {
      "cell_type": "code",
      "execution_count": 28,
      "metadata": {
        "id": "CRmgFSPTlyWj"
      },
      "outputs": [],
      "source": [
        "# ts_pois = ts\n"
      ]
    },
    {
      "cell_type": "code",
      "execution_count": 29,
      "metadata": {
        "id": "anC4b92mlyWj"
      },
      "outputs": [
        {
          "name": "stdout",
          "output_type": "stream",
          "text": [
            "accuracy of robust model on clean test data: 0.99 \n",
            "accuracy of robust model on poisoned test data: 0.0 \n"
          ]
        }
      ],
      "source": [
        "robust_acc_clean = metric.performance_score(\n",
        "    y_true=ts.Y, y_pred=robust_model.predict(ts.X)\n",
        ")  # robust acc on clean test dataset\n",
        "robust_acc_poisoned = metric.performance_score(\n",
        "    y_true=ts.Y, y_pred=robust_model.predict(adv_linf_ds.X)\n",
        ")\n",
        "print(\"accuracy of robust model on clean test data: {} \".format(robust_acc_clean))\n",
        "print(\"accuracy of robust model on poisoned test data: {} \".format(robust_acc_poisoned))\n",
        "# robust_acc_clean, robust_acc_poisoned\n"
      ]
    },
    {
      "cell_type": "markdown",
      "metadata": {
        "id": "K719n8ZWlyWj"
      },
      "source": [
        "## The second attack is effective on the robust model because it's not trained on the second attack\n"
      ]
    },
    {
      "cell_type": "markdown",
      "metadata": {
        "id": "zT4poMWZcTBL"
      },
      "source": [
        "# Part 2: Building Defence Mechanism\n"
      ]
    },
    {
      "cell_type": "markdown",
      "metadata": {
        "id": "pTo0TUs9i7HT"
      },
      "source": [
        "### Using Isolation Forest\n"
      ]
    },
    {
      "cell_type": "markdown",
      "metadata": {},
      "source": [
        "## We take the poisoned dataset from before, and attempt to clean it using Isolation Forest\n"
      ]
    },
    {
      "cell_type": "code",
      "execution_count": 30,
      "metadata": {
        "id": "f9mLINvZcX5_"
      },
      "outputs": [
        {
          "name": "stdout",
          "output_type": "stream",
          "text": [
            "Requirement already satisfied: pandas in c:\\users\\mbele\\anaconda3\\envs\\secml\\lib\\site-packages (2.2.2)\n",
            "Requirement already satisfied: numpy>=1.22.4 in c:\\users\\mbele\\anaconda3\\envs\\secml\\lib\\site-packages (from pandas) (1.23.0)\n",
            "Requirement already satisfied: python-dateutil>=2.8.2 in c:\\users\\mbele\\anaconda3\\envs\\secml\\lib\\site-packages (from pandas) (2.9.0)\n",
            "Requirement already satisfied: pytz>=2020.1 in c:\\users\\mbele\\anaconda3\\envs\\secml\\lib\\site-packages (from pandas) (2024.1)\n",
            "Requirement already satisfied: tzdata>=2022.7 in c:\\users\\mbele\\anaconda3\\envs\\secml\\lib\\site-packages (from pandas) (2024.1)\n",
            "Requirement already satisfied: six>=1.5 in c:\\users\\mbele\\anaconda3\\envs\\secml\\lib\\site-packages (from python-dateutil>=2.8.2->pandas) (1.16.0)\n"
          ]
        },
        {
          "name": "stderr",
          "output_type": "stream",
          "text": [
            "\n",
            "[notice] A new release of pip is available: 24.1.2 -> 24.2\n",
            "[notice] To update, run: python.exe -m pip install --upgrade pip\n"
          ]
        }
      ],
      "source": [
        "!pip install pandas\n",
        "\n",
        "import numpy as np\n",
        "import pandas as pd\n",
        "from sklearn.ensemble import IsolationForest\n",
        "\n",
        "# Extract features and labels from the poisoned dataset\n",
        "X_train_poisoned = tr_poisoned.X.get_data()\n",
        "y_train_poisoned = tr_poisoned.Y.get_data()\n",
        "\n",
        "\n",
        "# Convert the poisoned data to a pandas DataFrame for easier manipulation\n",
        "df_train_poisoned = pd.DataFrame(X_train_poisoned)\n",
        "\n",
        "# Use Isolation Forest for outlier detection\n",
        "iso = IsolationForest(contamination=0.01)  # Adjust contamination level as needed\n",
        "outliers = iso.fit_predict(df_train_poisoned)\n",
        "\n",
        "# Filter out the outliers\n",
        "mask = outliers != -1\n",
        "X_train_clean = X_train_poisoned[mask]\n",
        "y_train_clean = y_train_poisoned[mask]\n"
      ]
    },
    {
      "cell_type": "markdown",
      "metadata": {
        "id": "xd6lTe7CjAFF"
      },
      "source": [
        "### Retrain the model using the filtered dataset\n"
      ]
    },
    {
      "cell_type": "code",
      "execution_count": 32,
      "metadata": {
        "id": "dWjN1GDUi9xj"
      },
      "outputs": [],
      "source": [
        "net = Net()\n",
        "optimizer = torch.optim.SGD(net.parameters(), lr=0.001, momentum=0.9)\n",
        "loss_function = nn.CrossEntropyLoss()\n",
        "clf = CClassifierPyTorch(\n",
        "    model=net,\n",
        "    loss=loss_function,\n",
        "    optimizer=optimizer,\n",
        "    epochs=num_epochs,\n",
        "    batch_size=64,\n",
        "    input_shape=(1, 28, 28),\n",
        "    random_state=0,\n",
        ")\n",
        "\n",
        "\n",
        "# Train the model on the cleaned dataset\n",
        "history = clf.fit(tr.X, tr.Y)\n"
      ]
    },
    {
      "cell_type": "code",
      "execution_count": 33,
      "metadata": {
        "id": "Afo8yBhqkG7g"
      },
      "outputs": [
        {
          "name": "stdout",
          "output_type": "stream",
          "text": [
            "Attack started....\n",
            "Attack ended....\n",
            "Accuracy of robust model on clean test set before attack: 99.50%\n",
            "Accuracy of robust model on poisoned test set after attack: 82.50%\n"
          ]
        }
      ],
      "source": [
        "y_pred = clf.predict(ts.X)\n",
        "\n",
        "robust_attack = CAttackEvasionPGDLS(\n",
        "    classifier=clf,\n",
        "    double_init=False,\n",
        "    distance=noise_type,\n",
        "    dmax=dmax,\n",
        "    lb=lb,\n",
        "    ub=ub,\n",
        "    solver_params=solve_params,\n",
        "    y_target=y_target,\n",
        ")\n",
        "\n",
        "print(\"Attack started....\")\n",
        "robust_pred, _, pgd_ds_robust, _ = robust_attack.run(ts.X, ts.Y)\n",
        "print(\"Attack ended....\")\n",
        "\n",
        "# Comparing accuracies\n",
        "robust_acc = metric.performance_score(y_true=ts.Y, y_pred=y_pred)\n",
        "robust_pois_acc = metric.performance_score(y_true=ts.Y, y_pred=robust_pred)\n",
        "print(\n",
        "    \"Accuracy of robust model on clean test set before attack: {:.2%}\".format(\n",
        "        robust_acc\n",
        "    )\n",
        ")\n",
        "print(\n",
        "    \"Accuracy of robust model on poisoned test set after attack: {:.2%}\".format(\n",
        "        robust_pois_acc\n",
        "    )\n",
        ")\n"
      ]
    },
    {
      "cell_type": "code",
      "execution_count": 37,
      "metadata": {},
      "outputs": [
        {
          "data": {
            "text/plain": [
              "CDataset{'X': CArray(3069, 784)(dense: [[0.000000e+00 0.000000e+00 0.000000e+00 ... 0.000000e+00 0.000000e+00  0.000000e+00] [0.000000e+00 0.000000e+00 0.000000e+00 ... 0.000000e+00 0.000000e+00  0.000000e+00] [0.000000e+00 0.000000e+00 0.000000e+00 ... 0.000000e+00 0.000000e+00  0.000000e+00] ... [3.184202e-03 8.302122e-03 1.397391e-03 ... 1.058153e-02 6.491455e-04  3.433225e-03] [2.568639e-04 0.000000e+00 0.000000e+00 ... 2.873808e-03 7.590520e-03  2.600181e-05] [5.518466e-04 3.100741e-03 0.000000e+00 ... 0.000000e+00 0.000000e+00  4.991426e-03]]), 'Y': CArray(3069,)(dense: [8 6 9 ... 1 6 9]), 'header': None}"
            ]
          },
          "execution_count": 37,
          "metadata": {},
          "output_type": "execute_result"
        }
      ],
      "source": [
        "from secml.data import CDataset\n",
        "\n",
        "ds = CDataset(X_train_clean, y_train_clean)\n",
        "ds\n"
      ]
    },
    {
      "cell_type": "code",
      "execution_count": null,
      "metadata": {
        "vscode": {
          "languageId": "plaintext"
        }
      },
      "outputs": [],
      "source": [
        "dmax_vals = CArray.linspace(0, stop=0.4, num=10)\n",
        "\n",
        "second1= CSecEval(\n",
        "    attack=robust_attack, param_name=\"dmax\", param_values=dmax_vals\n",
        ")\n",
        "\n",
        "second2 = CSecEval(\n",
        "    attack=robust_attack, param_name=\"dmax\", param_values=dmax_vals\n",
        ")\n",
        "second1.run_sec_eval(ds)\n",
        "second2.run_sec_eval(tr_poisoned)\n",
        "\n",
        "\n",
        "\n",
        "%matplotlib inline\n",
        "\n",
        "from secml.figure import CFigure\n",
        "\n",
        "fig = CFigure(height=5, width=10)\n",
        "\n",
        "fig.sp.plot_sec_eval(second1.sec_eval_data, marker='o',\n",
        "                     label=\"Mnist regular\", show_average=True)\n",
        "\n",
        "fig.sp.plot_sec_eval(second2.sec_eval_data, marker='*',\n",
        "                     label=\"Mnist robust\", show_average=True)\n"
      ]
    }
  ],
  "metadata": {
    "accelerator": "TPU",
    "colab": {
      "gpuType": "V28",
      "machine_shape": "hm",
      "provenance": []
    },
    "kernelspec": {
      "display_name": "Python 3",
      "name": "python3"
    },
    "language_info": {
      "codemirror_mode": {
        "name": "ipython",
        "version": 3
      },
      "file_extension": ".py",
      "mimetype": "text/x-python",
      "name": "python",
      "nbconvert_exporter": "python",
      "pygments_lexer": "ipython3",
      "version": "3.9.19"
    }
  },
  "nbformat": 4,
  "nbformat_minor": 0
}
